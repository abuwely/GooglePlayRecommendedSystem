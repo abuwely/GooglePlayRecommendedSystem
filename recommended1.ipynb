{
 "cells": [
  {
   "cell_type": "code",
   "execution_count": 80,
   "metadata": {},
   "outputs": [],
   "source": [
    "\n",
    "import pandas as pd\n",
    "import numpy as np\n",
    "import matplotlib.pyplot as plt\n",
    "import math\n",
    "\n",
    "from sklearn.preprocessing import LabelEncoder\n",
    "from sklearn.preprocessing import OneHotEncoder"
   ]
  },
  {
   "cell_type": "code",
   "execution_count": 81,
   "metadata": {},
   "outputs": [],
   "source": [
    "df= pd.read_csv('googleplaystore.csv')"
   ]
  },
  {
   "cell_type": "code",
   "execution_count": 82,
   "metadata": {},
   "outputs": [],
   "source": [
    "#df.head(5)\n"
   ]
  },
  {
   "cell_type": "code",
   "execution_count": 83,
   "metadata": {},
   "outputs": [],
   "source": [
    "CategoryGroup=df.groupby('Category').count()\n"
   ]
  },
  {
   "cell_type": "code",
   "execution_count": 84,
   "metadata": {},
   "outputs": [],
   "source": [
    "GenreGroup=df.groupby('Genres').count()\n"
   ]
  },
  {
   "cell_type": "code",
   "execution_count": 85,
   "metadata": {},
   "outputs": [],
   "source": [
    "Group=df.groupby(['Category','Genres']).count()\n"
   ]
  },
  {
   "cell_type": "code",
   "execution_count": 86,
   "metadata": {},
   "outputs": [],
   "source": [
    "GameGroup=df.groupby(['Category']).get_group('GAME')\n"
   ]
  },
  {
   "cell_type": "code",
   "execution_count": 87,
   "metadata": {},
   "outputs": [],
   "source": [
    "EDUCATIONGroup=df.groupby(['Category']).get_group('EDUCATION')\n"
   ]
  },
  {
   "cell_type": "code",
   "execution_count": 88,
   "metadata": {},
   "outputs": [],
   "source": [
    "ENTERTAINMENTGroup=df.groupby(['Category']).get_group('ENTERTAINMENT')\n"
   ]
  },
  {
   "cell_type": "code",
   "execution_count": 89,
   "metadata": {},
   "outputs": [],
   "source": [
    "NewDf=pd.concat([GameGroup,EDUCATIONGroup,ENTERTAINMENTGroup])"
   ]
  },
  {
   "cell_type": "code",
   "execution_count": 90,
   "metadata": {},
   "outputs": [],
   "source": [
    "NewDf=NewDf.fillna(0)"
   ]
  },
  {
   "cell_type": "code",
   "execution_count": 91,
   "metadata": {},
   "outputs": [],
   "source": [
    "rate=[]\n",
    "for i in NewDf.Rating :\n",
    "    rate.append(int(i))\n",
    "NewDf.Rating=rate"
   ]
  },
  {
   "cell_type": "code",
   "execution_count": 92,
   "metadata": {},
   "outputs": [],
   "source": [
    "dummies=pd.get_dummies(NewDf,columns=['Category', 'Genres','Type','Content Rating','Rating'], drop_first=True)\n",
    "dummies.drop(columns=['App','Installs'],inplace=True)\n",
    "df = pd.concat([NewDf, dummies], axis=1)\n",
    "df=df.fillna(0)\n"
   ]
  },
  {
   "cell_type": "code",
   "execution_count": 93,
   "metadata": {},
   "outputs": [],
   "source": [
    "df.drop(columns=['Category', 'Genres','Type','Content Rating','Rating','Reviews','Size','Price','Last Updated','Current Ver','Android Ver'],inplace=True)"
   ]
  },
  {
   "cell_type": "code",
   "execution_count": 94,
   "metadata": {},
   "outputs": [],
   "source": [
    "df.reset_index(inplace=True)"
   ]
  },
  {
   "cell_type": "code",
   "execution_count": 95,
   "metadata": {},
   "outputs": [],
   "source": [
    "dfcopy=df.copy()\n"
   ]
  },
  {
   "cell_type": "code",
   "execution_count": 96,
   "metadata": {},
   "outputs": [],
   "source": [
    "userdf=pd.DataFrame()\n",
    "appid=[1655,1662,996]\n",
    "rate=[2.5,5,4.5]\n",
    "userdf['appid']=appid\n",
    "userdf['rating']=rate"
   ]
  },
  {
   "cell_type": "code",
   "execution_count": 97,
   "metadata": {},
   "outputs": [],
   "source": [
    "profile1=dfcopy[dfcopy['index'].isin(userdf['appid'])]"
   ]
  },
  {
   "cell_type": "code",
   "execution_count": 98,
   "metadata": {},
   "outputs": [
    {
     "data": {
      "text/html": [
       "<div>\n",
       "<style scoped>\n",
       "    .dataframe tbody tr th:only-of-type {\n",
       "        vertical-align: middle;\n",
       "    }\n",
       "\n",
       "    .dataframe tbody tr th {\n",
       "        vertical-align: top;\n",
       "    }\n",
       "\n",
       "    .dataframe thead th {\n",
       "        text-align: right;\n",
       "    }\n",
       "</style>\n",
       "<table border=\"1\" class=\"dataframe\">\n",
       "  <thead>\n",
       "    <tr style=\"text-align: right;\">\n",
       "      <th></th>\n",
       "      <th>index</th>\n",
       "      <th>App</th>\n",
       "      <th>Installs</th>\n",
       "      <th>Category_ENTERTAINMENT</th>\n",
       "      <th>Category_GAME</th>\n",
       "      <th>Genres_Action;Action &amp; Adventure</th>\n",
       "      <th>Genres_Adventure</th>\n",
       "      <th>Genres_Adventure;Action &amp; Adventure</th>\n",
       "      <th>Genres_Arcade</th>\n",
       "      <th>Genres_Board</th>\n",
       "      <th>...</th>\n",
       "      <th>Genres_Word</th>\n",
       "      <th>Type_Paid</th>\n",
       "      <th>Content Rating_Everyone 10+</th>\n",
       "      <th>Content Rating_Mature 17+</th>\n",
       "      <th>Content Rating_Teen</th>\n",
       "      <th>Rating_1</th>\n",
       "      <th>Rating_2</th>\n",
       "      <th>Rating_3</th>\n",
       "      <th>Rating_4</th>\n",
       "      <th>Rating_5</th>\n",
       "    </tr>\n",
       "  </thead>\n",
       "  <tbody>\n",
       "    <tr>\n",
       "      <th>2</th>\n",
       "      <td>1655</td>\n",
       "      <td>Candy Crush Saga</td>\n",
       "      <td>500,000,000+</td>\n",
       "      <td>0</td>\n",
       "      <td>1</td>\n",
       "      <td>0</td>\n",
       "      <td>0</td>\n",
       "      <td>0</td>\n",
       "      <td>0</td>\n",
       "      <td>0</td>\n",
       "      <td>...</td>\n",
       "      <td>0</td>\n",
       "      <td>0</td>\n",
       "      <td>0</td>\n",
       "      <td>0</td>\n",
       "      <td>0</td>\n",
       "      <td>0</td>\n",
       "      <td>0</td>\n",
       "      <td>0</td>\n",
       "      <td>1</td>\n",
       "      <td>0</td>\n",
       "    </tr>\n",
       "    <tr>\n",
       "      <th>9</th>\n",
       "      <td>1662</td>\n",
       "      <td>Pou</td>\n",
       "      <td>500,000,000+</td>\n",
       "      <td>0</td>\n",
       "      <td>1</td>\n",
       "      <td>0</td>\n",
       "      <td>0</td>\n",
       "      <td>0</td>\n",
       "      <td>0</td>\n",
       "      <td>0</td>\n",
       "      <td>...</td>\n",
       "      <td>0</td>\n",
       "      <td>0</td>\n",
       "      <td>0</td>\n",
       "      <td>0</td>\n",
       "      <td>0</td>\n",
       "      <td>0</td>\n",
       "      <td>0</td>\n",
       "      <td>0</td>\n",
       "      <td>1</td>\n",
       "      <td>0</td>\n",
       "    </tr>\n",
       "    <tr>\n",
       "      <th>1441</th>\n",
       "      <td>996</td>\n",
       "      <td>Funny Pics</td>\n",
       "      <td>1,000,000+</td>\n",
       "      <td>1</td>\n",
       "      <td>0</td>\n",
       "      <td>0</td>\n",
       "      <td>0</td>\n",
       "      <td>0</td>\n",
       "      <td>0</td>\n",
       "      <td>0</td>\n",
       "      <td>...</td>\n",
       "      <td>0</td>\n",
       "      <td>0</td>\n",
       "      <td>0</td>\n",
       "      <td>0</td>\n",
       "      <td>1</td>\n",
       "      <td>0</td>\n",
       "      <td>0</td>\n",
       "      <td>1</td>\n",
       "      <td>0</td>\n",
       "      <td>0</td>\n",
       "    </tr>\n",
       "  </tbody>\n",
       "</table>\n",
       "<p>3 rows × 48 columns</p>\n",
       "</div>"
      ],
      "text/plain": [
       "      index               App      Installs  Category_ENTERTAINMENT  \\\n",
       "2      1655  Candy Crush Saga  500,000,000+                       0   \n",
       "9      1662               Pou  500,000,000+                       0   \n",
       "1441    996        Funny Pics    1,000,000+                       1   \n",
       "\n",
       "      Category_GAME  Genres_Action;Action & Adventure  Genres_Adventure  \\\n",
       "2                 1                                 0                 0   \n",
       "9                 1                                 0                 0   \n",
       "1441              0                                 0                 0   \n",
       "\n",
       "      Genres_Adventure;Action & Adventure  Genres_Arcade  Genres_Board  ...  \\\n",
       "2                                       0              0             0  ...   \n",
       "9                                       0              0             0  ...   \n",
       "1441                                    0              0             0  ...   \n",
       "\n",
       "      Genres_Word  Type_Paid  Content Rating_Everyone 10+  \\\n",
       "2               0          0                            0   \n",
       "9               0          0                            0   \n",
       "1441            0          0                            0   \n",
       "\n",
       "      Content Rating_Mature 17+  Content Rating_Teen  Rating_1  Rating_2  \\\n",
       "2                             0                    0         0         0   \n",
       "9                             0                    0         0         0   \n",
       "1441                          0                    1         0         0   \n",
       "\n",
       "      Rating_3  Rating_4  Rating_5  \n",
       "2            0         1         0  \n",
       "9            0         1         0  \n",
       "1441         1         0         0  \n",
       "\n",
       "[3 rows x 48 columns]"
      ]
     },
     "execution_count": 98,
     "metadata": {},
     "output_type": "execute_result"
    }
   ],
   "source": [
    "profile1"
   ]
  },
  {
   "cell_type": "code",
   "execution_count": 99,
   "metadata": {},
   "outputs": [],
   "source": [
    "profile1.drop(['index','App','Installs'],1,inplace=True)\n"
   ]
  },
  {
   "cell_type": "code",
   "execution_count": 100,
   "metadata": {},
   "outputs": [
    {
     "data": {
      "text/html": [
       "<div>\n",
       "<style scoped>\n",
       "    .dataframe tbody tr th:only-of-type {\n",
       "        vertical-align: middle;\n",
       "    }\n",
       "\n",
       "    .dataframe tbody tr th {\n",
       "        vertical-align: top;\n",
       "    }\n",
       "\n",
       "    .dataframe thead th {\n",
       "        text-align: right;\n",
       "    }\n",
       "</style>\n",
       "<table border=\"1\" class=\"dataframe\">\n",
       "  <thead>\n",
       "    <tr style=\"text-align: right;\">\n",
       "      <th></th>\n",
       "      <th>Category_ENTERTAINMENT</th>\n",
       "      <th>Category_GAME</th>\n",
       "      <th>Genres_Action;Action &amp; Adventure</th>\n",
       "      <th>Genres_Adventure</th>\n",
       "      <th>Genres_Adventure;Action &amp; Adventure</th>\n",
       "      <th>Genres_Arcade</th>\n",
       "      <th>Genres_Board</th>\n",
       "      <th>Genres_Card</th>\n",
       "      <th>Genres_Casino</th>\n",
       "      <th>Genres_Casual</th>\n",
       "      <th>...</th>\n",
       "      <th>Genres_Word</th>\n",
       "      <th>Type_Paid</th>\n",
       "      <th>Content Rating_Everyone 10+</th>\n",
       "      <th>Content Rating_Mature 17+</th>\n",
       "      <th>Content Rating_Teen</th>\n",
       "      <th>Rating_1</th>\n",
       "      <th>Rating_2</th>\n",
       "      <th>Rating_3</th>\n",
       "      <th>Rating_4</th>\n",
       "      <th>Rating_5</th>\n",
       "    </tr>\n",
       "  </thead>\n",
       "  <tbody>\n",
       "    <tr>\n",
       "      <th>0</th>\n",
       "      <td>0</td>\n",
       "      <td>1</td>\n",
       "      <td>0</td>\n",
       "      <td>0</td>\n",
       "      <td>0</td>\n",
       "      <td>0</td>\n",
       "      <td>0</td>\n",
       "      <td>0</td>\n",
       "      <td>0</td>\n",
       "      <td>1</td>\n",
       "      <td>...</td>\n",
       "      <td>0</td>\n",
       "      <td>0</td>\n",
       "      <td>0</td>\n",
       "      <td>0</td>\n",
       "      <td>0</td>\n",
       "      <td>0</td>\n",
       "      <td>0</td>\n",
       "      <td>0</td>\n",
       "      <td>1</td>\n",
       "      <td>0</td>\n",
       "    </tr>\n",
       "    <tr>\n",
       "      <th>1</th>\n",
       "      <td>0</td>\n",
       "      <td>1</td>\n",
       "      <td>0</td>\n",
       "      <td>0</td>\n",
       "      <td>0</td>\n",
       "      <td>0</td>\n",
       "      <td>0</td>\n",
       "      <td>0</td>\n",
       "      <td>0</td>\n",
       "      <td>1</td>\n",
       "      <td>...</td>\n",
       "      <td>0</td>\n",
       "      <td>0</td>\n",
       "      <td>0</td>\n",
       "      <td>0</td>\n",
       "      <td>0</td>\n",
       "      <td>0</td>\n",
       "      <td>0</td>\n",
       "      <td>0</td>\n",
       "      <td>1</td>\n",
       "      <td>0</td>\n",
       "    </tr>\n",
       "    <tr>\n",
       "      <th>2</th>\n",
       "      <td>1</td>\n",
       "      <td>0</td>\n",
       "      <td>0</td>\n",
       "      <td>0</td>\n",
       "      <td>0</td>\n",
       "      <td>0</td>\n",
       "      <td>0</td>\n",
       "      <td>0</td>\n",
       "      <td>0</td>\n",
       "      <td>0</td>\n",
       "      <td>...</td>\n",
       "      <td>0</td>\n",
       "      <td>0</td>\n",
       "      <td>0</td>\n",
       "      <td>0</td>\n",
       "      <td>1</td>\n",
       "      <td>0</td>\n",
       "      <td>0</td>\n",
       "      <td>1</td>\n",
       "      <td>0</td>\n",
       "      <td>0</td>\n",
       "    </tr>\n",
       "  </tbody>\n",
       "</table>\n",
       "<p>3 rows × 45 columns</p>\n",
       "</div>"
      ],
      "text/plain": [
       "   Category_ENTERTAINMENT  Category_GAME  Genres_Action;Action & Adventure  \\\n",
       "0                       0              1                                 0   \n",
       "1                       0              1                                 0   \n",
       "2                       1              0                                 0   \n",
       "\n",
       "   Genres_Adventure  Genres_Adventure;Action & Adventure  Genres_Arcade  \\\n",
       "0                 0                                    0              0   \n",
       "1                 0                                    0              0   \n",
       "2                 0                                    0              0   \n",
       "\n",
       "   Genres_Board  Genres_Card  Genres_Casino  Genres_Casual  ...  Genres_Word  \\\n",
       "0             0            0              0              1  ...            0   \n",
       "1             0            0              0              1  ...            0   \n",
       "2             0            0              0              0  ...            0   \n",
       "\n",
       "   Type_Paid  Content Rating_Everyone 10+  Content Rating_Mature 17+  \\\n",
       "0          0                            0                          0   \n",
       "1          0                            0                          0   \n",
       "2          0                            0                          0   \n",
       "\n",
       "   Content Rating_Teen  Rating_1  Rating_2  Rating_3  Rating_4  Rating_5  \n",
       "0                    0         0         0         0         1         0  \n",
       "1                    0         0         0         0         1         0  \n",
       "2                    1         0         0         1         0         0  \n",
       "\n",
       "[3 rows x 45 columns]"
      ]
     },
     "execution_count": 100,
     "metadata": {},
     "output_type": "execute_result"
    }
   ],
   "source": [
    "profile1 = profile1.reset_index(drop=True)\n",
    "profile1"
   ]
  },
  {
   "cell_type": "code",
   "execution_count": 101,
   "metadata": {},
   "outputs": [
    {
     "data": {
      "text/plain": [
       "array([2.5, 5. , 4.5])"
      ]
     },
     "execution_count": 101,
     "metadata": {},
     "output_type": "execute_result"
    }
   ],
   "source": [
    "rating=userdf['rating'].values\n",
    "rating"
   ]
  },
  {
   "cell_type": "code",
   "execution_count": 102,
   "metadata": {},
   "outputs": [],
   "source": [
    "rating1=profile1.transpose().dot(rating)\n",
    "#rating1"
   ]
  },
  {
   "cell_type": "code",
   "execution_count": 104,
   "metadata": {},
   "outputs": [],
   "source": [
    "table=dfcopy.set_index('index')\n"
   ]
  },
  {
   "cell_type": "code",
   "execution_count": 106,
   "metadata": {},
   "outputs": [],
   "source": [
    "table.drop(['App','Installs'],1,inplace=True)\n"
   ]
  },
  {
   "cell_type": "code",
   "execution_count": 110,
   "metadata": {},
   "outputs": [],
   "source": [
    "recommendationTable1 = ((table*rating1).sum(axis=1))/(rating1.sum())\n",
    "recommendationTable1=recommendationTable1.sort_values(ascending=False)\n"
   ]
  },
  {
   "cell_type": "code",
   "execution_count": 111,
   "metadata": {},
   "outputs": [
    {
     "data": {
      "text/plain": [
       "index\n",
       "1808     0.555556\n",
       "1705     0.555556\n",
       "1991     0.555556\n",
       "1994     0.555556\n",
       "1995     0.555556\n",
       "2011     0.555556\n",
       "1774     0.555556\n",
       "1766     0.555556\n",
       "1751     0.555556\n",
       "1747     0.555556\n",
       "1894     0.555556\n",
       "1741     0.555556\n",
       "1733     0.555556\n",
       "1731     0.555556\n",
       "1722     0.555556\n",
       "1716     0.555556\n",
       "1711     0.555556\n",
       "1814     0.555556\n",
       "1975     0.555556\n",
       "1974     0.555556\n",
       "1869     0.555556\n",
       "1890     0.555556\n",
       "1888     0.555556\n",
       "1885     0.555556\n",
       "1880     0.555556\n",
       "1875     0.555556\n",
       "1873     0.555556\n",
       "1904     0.555556\n",
       "1972     0.555556\n",
       "1908     0.555556\n",
       "           ...   \n",
       "775      0.185185\n",
       "801      0.185185\n",
       "6832     0.185185\n",
       "6839     0.185185\n",
       "6932     0.185185\n",
       "10367    0.185185\n",
       "799      0.185185\n",
       "798      0.185185\n",
       "797      0.185185\n",
       "796      0.185185\n",
       "795      0.185185\n",
       "6967     0.185185\n",
       "794      0.185185\n",
       "789      0.185185\n",
       "6965     0.185185\n",
       "793      0.185185\n",
       "792      0.185185\n",
       "791      0.185185\n",
       "790      0.185185\n",
       "6846     0.185185\n",
       "6842     0.185185\n",
       "6841     0.185185\n",
       "757      0.185185\n",
       "729      0.111111\n",
       "713      0.111111\n",
       "818      0.111111\n",
       "841      0.111111\n",
       "721      0.111111\n",
       "821      0.111111\n",
       "704      0.000000\n",
       "Length: 1449, dtype: float64"
      ]
     },
     "execution_count": 111,
     "metadata": {},
     "output_type": "execute_result"
    }
   ],
   "source": [
    "recommendationTable1"
   ]
  },
  {
   "cell_type": "code",
   "execution_count": null,
   "metadata": {},
   "outputs": [],
   "source": []
  }
 ],
 "metadata": {
  "kernelspec": {
   "display_name": "Python 3",
   "language": "python",
   "name": "python3"
  },
  "language_info": {
   "codemirror_mode": {
    "name": "ipython",
    "version": 3
   },
   "file_extension": ".py",
   "mimetype": "text/x-python",
   "name": "python",
   "nbconvert_exporter": "python",
   "pygments_lexer": "ipython3",
   "version": "3.7.6"
  }
 },
 "nbformat": 4,
 "nbformat_minor": 4
}
